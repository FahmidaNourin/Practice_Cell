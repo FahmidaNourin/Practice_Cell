{
  "nbformat": 4,
  "nbformat_minor": 0,
  "metadata": {
    "colab": {
      "name": "Python_Begining.ipynb",
      "provenance": [],
      "authorship_tag": "ABX9TyMbq+CORoV0FVXCiZDsUv+7",
      "include_colab_link": true
    },
    "kernelspec": {
      "name": "python3",
      "display_name": "Python 3"
    },
    "language_info": {
      "name": "python"
    }
  },
  "cells": [
    {
      "cell_type": "markdown",
      "metadata": {
        "id": "view-in-github",
        "colab_type": "text"
      },
      "source": [
        "<a href=\"https://colab.research.google.com/github/FahmidaNourin/Practice_Cell/blob/master/Python_Begining.ipynb\" target=\"_parent\"><img src=\"https://colab.research.google.com/assets/colab-badge.svg\" alt=\"Open In Colab\"/></a>"
      ]
    },
    {
      "cell_type": "markdown",
      "source": [
        "Read Some integer number in one line:\n",
        "<ol>\n",
        "<li>Find the even numbers</li>\n",
        "<li>Find number above 5</li>\n",
        "<li>Count Number above 10</li>\n",
        "<li> Count the even and odd number</li>\n",
        "</ol>\n",
        "<br>\n",
        "<font color=\"Green\">Example for 1:</font><br>\n",
        "Input: 2 3 4 5 6 10 20 15 90<br>\n",
        "Output: 2 4 6 10 20 90<br><br>\n",
        "\n",
        "<font color=\"Green\">Example for 2:</font><br>\n",
        "Input:2 3 4 5 6 10 20 15 90<br>\n",
        "Output: 6 10 20 15 90<br><br>\n",
        "\n",
        "<font color=\"Green\">Example for 3:</font><br>\n",
        "Input:2 3 4 5 6 10 20 15 90<br>\n",
        "Output: 3<br><br>\n",
        "\n"
      ],
      "metadata": {
        "id": "Ssj_TBC9vgCR"
      }
    },
    {
      "cell_type": "code",
      "source": [
        "talika=list(map(int,input().split()))\n",
        "\n",
        "even=[]\n",
        "\n",
        "for k in talika:\n",
        "  if k%2==0:\n",
        "    even.append(k)\n",
        "\n",
        "print(*even,sep=\" \")"
      ],
      "metadata": {
        "colab": {
          "base_uri": "https://localhost:8080/"
        },
        "id": "u7ArFDRKztti",
        "outputId": "cc8a8562-0df4-4e5f-99cd-a74fd44d8486"
      },
      "execution_count": 14,
      "outputs": [
        {
          "output_type": "stream",
          "name": "stdout",
          "text": [
            "2 3 4 5 6 10 20 15 90\n",
            "2,4,6,10,20,90\n",
            "[2, 4, 6, 10, 20, 90]\n"
          ]
        }
      ]
    },
    {
      "cell_type": "code",
      "execution_count": 20,
      "metadata": {
        "id": "qd_hoJKJvNzV",
        "colab": {
          "base_uri": "https://localhost:8080/"
        },
        "outputId": "e5cbcabc-fcbc-4e15-a524-5e633e7edaa7"
      },
      "outputs": [
        {
          "output_type": "stream",
          "name": "stdout",
          "text": [
            "2 3 4 5 6 10 20 15 90\n",
            "3 5 15\n"
          ]
        }
      ],
      "source": [
        "talika=list(map(int,input().split()))\n",
        "\n",
        "odd=[]\n",
        "\n",
        "for k in talika:\n",
        "  if k%2!=0:\n",
        "    odd.append(k)\n",
        "\n",
        "print(*odd,sep=\" \")"
      ]
    },
    {
      "cell_type": "code",
      "source": [
        "talika=list(map(int,input().split()))\n",
        "\n",
        "above=[]\n",
        "\n",
        "for k in talika:\n",
        "  if k>5:\n",
        "    above.append(k)\n",
        "print(*above,sep=\" \")"
      ],
      "metadata": {
        "colab": {
          "base_uri": "https://localhost:8080/"
        },
        "id": "HA8gdZta9F7k",
        "outputId": "8fb3d958-fcef-4dd0-8b80-2ed28ae74716"
      },
      "execution_count": 22,
      "outputs": [
        {
          "output_type": "stream",
          "name": "stdout",
          "text": [
            "2 3 4 5 6 10 20 15 90\n",
            "6 10 20 15 90\n"
          ]
        }
      ]
    },
    {
      "cell_type": "code",
      "source": [
        "talika=list(map(int,input().split()))\n",
        "\n",
        "count=[]\n",
        "for k in talika:\n",
        "  if k>10:\n",
        "    count.append(k)\n",
        "print(len(count))"
      ],
      "metadata": {
        "colab": {
          "base_uri": "https://localhost:8080/"
        },
        "id": "9mXysN4d6988",
        "outputId": "4c20764b-a772-4da5-8117-d80f588ed793"
      },
      "execution_count": 25,
      "outputs": [
        {
          "output_type": "stream",
          "name": "stdout",
          "text": [
            "2 3 4 5 6 10 20 15 90\n",
            "3\n"
          ]
        }
      ]
    },
    {
      "cell_type": "code",
      "source": [
        ""
      ],
      "metadata": {
        "id": "wouvuAvu_J2e"
      },
      "execution_count": null,
      "outputs": []
    },
    {
      "cell_type": "markdown",
      "source": [
        ""
      ],
      "metadata": {
        "id": "X9m8_j6AvfYh"
      }
    }
  ]
}